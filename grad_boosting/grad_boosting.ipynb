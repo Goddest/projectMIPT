{
 "cells": [
  {
   "cell_type": "markdown",
   "metadata": {},
   "source": [
    "# Градиентный бустинг своими руками\n",
    "\n",
    "**Внимание:** в тексте задания произошли изменения - поменялось число деревьев (теперь 50), правило изменения величины шага в задании 3 и добавился параметр `random_state` у решающего дерева. Правильные ответы не поменялись, но теперь их проще получить. Также исправлена опечатка в функции `gbm_predict`.\n",
    "\n",
    "В этом задании будет использоваться датасет `boston` из `sklearn.datasets`. Оставьте последние 25% объектов для контроля качества, разделив `X` и `y` на `X_train`, `y_train` и `X_test`, `y_test`.\n",
    "\n",
    "Целью задания будет реализовать простой вариант градиентного бустинга над регрессионными деревьями для случая квадратичной функции потерь."
   ]
  },
  {
   "cell_type": "code",
   "execution_count": 23,
   "metadata": {},
   "outputs": [],
   "source": [
    "import sklearn.datasets\n",
    "dataset = sklearn.datasets.load_boston()"
   ]
  },
  {
   "cell_type": "code",
   "execution_count": 24,
   "metadata": {},
   "outputs": [],
   "source": [
    "X,y = dataset.data, dataset.target"
   ]
  },
  {
   "cell_type": "code",
   "execution_count": 25,
   "metadata": {},
   "outputs": [],
   "source": [
    "from sklearn.model_selection import train_test_split\n",
    "(X_train, X_test ,y_train, y_test) = train_test_split(X, y, test_size = 0.25, random_state = 0)"
   ]
  },
  {
   "cell_type": "markdown",
   "metadata": {},
   "source": [
    "## Задание 1\n",
    "\n",
    "Как вы уже знаете из лекций, **бустинг** - это метод построения композиций базовых алгоритмов с помощью последовательного добавления к текущей композиции нового алгоритма с некоторым коэффициентом. \n",
    "\n",
    "Градиентный бустинг обучает каждый новый алгоритм так, чтобы он приближал антиградиент ошибки по ответам композиции на обучающей выборке. Аналогично минимизации функций методом градиентного спуска, в градиентном бустинге мы подправляем композицию, изменяя алгоритм в направлении антиградиента ошибки.\n",
    "\n",
    "Воспользуйтесь формулой из лекций, задающей ответы на обучающей выборке, на которые нужно обучать новый алгоритм (фактически это лишь чуть более подробно расписанный градиент от ошибки), и получите частный ее случай, если функция потерь `L` - квадрат отклонения ответа композиции `a(x)` от правильного ответа `y` на данном `x`.\n",
    "\n",
    "Если вы давно не считали производную самостоятельно, вам поможет таблица производных элементарных функций (которую несложно найти в интернете) и правило дифференцирования сложной функции. После дифференцирования квадрата у вас возникнет множитель 2 — т.к. нам все равно предстоит выбирать коэффициент, с которым будет добавлен новый базовый алгоритм, проигноируйте этот множитель при дальнейшем построении алгоритма."
   ]
  },
  {
   "cell_type": "code",
   "execution_count": 26,
   "metadata": {},
   "outputs": [],
   "source": [
    "coefficients_list = [0.9] * 50\n",
    "def gbm_predict(X):\n",
    "    return [sum([coeff * algo.predict([x])[0] for algo, coeff in zip(base_algos, coefficients_list)]) for x in X]"
   ]
  },
  {
   "cell_type": "code",
   "execution_count": 27,
   "metadata": {},
   "outputs": [],
   "source": [
    "from sklearn.tree import DecisionTreeRegressor"
   ]
  },
  {
   "cell_type": "code",
   "execution_count": 28,
   "metadata": {},
   "outputs": [],
   "source": [
    "base_algos = []\n",
    "base_algos.append(DecisionTreeRegressor(max_depth=5, random_state=42).fit(X_train, y_train))\n",
    "for iteration in range(1, 50):\n",
    "    shifts = -2*(gbm_predict(X_train)- y_train)\n",
    "    new_algo = DecisionTreeRegressor(max_depth=5, random_state=42).fit(X_train, shifts)\n",
    "    base_algos.append(new_algo)    "
   ]
  },
  {
   "cell_type": "markdown",
   "metadata": {},
   "source": [
    "## Задание 2\n",
    "\n",
    "Заведите массив для объектов `DecisionTreeRegressor` (будем их использовать в качестве базовых алгоритмов) и для вещественных чисел (это будут коэффициенты перед базовыми алгоритмами). \n",
    "\n",
    "В цикле от обучите последовательно 50 решающих деревьев с параметрами `max_depth=5` и `random_state=42` (остальные параметры - по умолчанию). В бустинге зачастую используются сотни и тысячи деревьев, но мы ограничимся 50, чтобы алгоритм работал быстрее, и его было проще отлаживать (т.к. цель задания разобраться, как работает метод). Каждое дерево должно обучаться на одном и том же множестве объектов, но ответы, которые учится прогнозировать дерево, будут меняться в соответствие с полученным в задании 1 правилом. \n",
    "\n",
    "Попробуйте для начала всегда брать коэффициент равным 0.9. Обычно оправдано выбирать коэффициент значительно меньшим - порядка 0.05 или 0.1, но т.к. в нашем учебном примере на стандартном датасете будет всего 50 деревьев, возьмем для начала шаг побольше.\n",
    "\n",
    "В процессе реализации обучения вам потребуется функция, которая будет вычислять прогноз построенной на данный момент композиции деревьев на выборке `X`:\n",
    "\n",
    "```\n",
    "def gbm_predict(X):\n",
    "    return [sum([coeff * algo.predict([x])[0] for algo, coeff in zip(base_algorithms_list, coefficients_list)]) for x in X]\n",
    "(считаем, что base_algorithms_list - список с базовыми алгоритмами, coefficients_list - список с коэффициентами перед алгоритмами)\n",
    "```\n",
    "\n",
    "Эта же функция поможет вам получить прогноз на контрольной выборке и оценить качество работы вашего алгоритма с помощью `mean_squared_error` в `sklearn.metrics`. \n",
    "\n",
    "Возведите результат в степень 0.5, чтобы получить `RMSE`. Полученное значение `RMSE` — **ответ в пункте 2**."
   ]
  },
  {
   "cell_type": "code",
   "execution_count": 6,
   "metadata": {},
   "outputs": [
    {
     "ename": "NameError",
     "evalue": "name 'gbm_predict' is not defined",
     "output_type": "error",
     "traceback": [
      "\u001b[1;31m---------------------------------------------------------------------------\u001b[0m",
      "\u001b[1;31mNameError\u001b[0m                                 Traceback (most recent call last)",
      "\u001b[1;32m<ipython-input-6-a3ba3f83ba8d>\u001b[0m in \u001b[0;36m<module>\u001b[1;34m\u001b[0m\n\u001b[0;32m      1\u001b[0m \u001b[1;32mfrom\u001b[0m \u001b[0msklearn\u001b[0m\u001b[1;33m.\u001b[0m\u001b[0mmetrics\u001b[0m \u001b[1;32mimport\u001b[0m \u001b[0mmean_squared_error\u001b[0m\u001b[1;33m\u001b[0m\u001b[1;33m\u001b[0m\u001b[0m\n\u001b[1;32m----> 2\u001b[1;33m \u001b[0mresult\u001b[0m \u001b[1;33m=\u001b[0m \u001b[0mgbm_predict\u001b[0m\u001b[1;33m(\u001b[0m\u001b[0mX_test\u001b[0m\u001b[1;33m)\u001b[0m\u001b[1;33m\u001b[0m\u001b[1;33m\u001b[0m\u001b[0m\n\u001b[0m\u001b[0;32m      3\u001b[0m \u001b[0mmse\u001b[0m \u001b[1;33m=\u001b[0m \u001b[0mmean_squared_error\u001b[0m\u001b[1;33m(\u001b[0m\u001b[0my_test\u001b[0m\u001b[1;33m,\u001b[0m \u001b[0mresult\u001b[0m\u001b[1;33m)\u001b[0m\u001b[1;33m\u001b[0m\u001b[1;33m\u001b[0m\u001b[0m\n\u001b[0;32m      4\u001b[0m \u001b[0mprint\u001b[0m \u001b[1;33m(\u001b[0m\u001b[0mmse\u001b[0m\u001b[1;33m)\u001b[0m\u001b[1;33m\u001b[0m\u001b[1;33m\u001b[0m\u001b[0m\n\u001b[0;32m      5\u001b[0m \u001b[0manswer\u001b[0m \u001b[1;33m=\u001b[0m \u001b[0mmse\u001b[0m\u001b[1;33m**\u001b[0m\u001b[1;33m(\u001b[0m\u001b[1;36m0.5\u001b[0m\u001b[1;33m)\u001b[0m\u001b[1;33m\u001b[0m\u001b[1;33m\u001b[0m\u001b[0m\n",
      "\u001b[1;31mNameError\u001b[0m: name 'gbm_predict' is not defined"
     ]
    }
   ],
   "source": [
    "from sklearn.metrics import mean_squared_error\n",
    "result = gbm_predict(X_test)\n",
    "mse = mean_squared_error(y_test, result)\n",
    "print (mse)\n",
    "answer = mse**(0.5)\n",
    "print (answer)"
   ]
  },
  {
   "cell_type": "markdown",
   "metadata": {},
   "source": [
    "## Задание 3\n",
    "\n",
    "Вас может также беспокоить, что двигаясь с постоянным шагом, вблизи минимума ошибки ответы на обучающей выборке меняются слишком резко, перескакивая через минимум. \n",
    "\n",
    "Попробуйте уменьшать вес перед каждым алгоритмом с каждой следующей итерацией по формуле `0.9 / (1.0 + i)`, где `i` - номер итерации (от 0 до 49). Используйте качество работы алгоритма как **ответ в пункте 3**. \n",
    "\n",
    "В реальности часто применяется следующая стратегия выбора шага: как только выбран алгоритм, подберем коэффициент перед ним численным методом оптимизации таким образом, чтобы отклонение от правильных ответов было минимальным. Мы не будем предлагать вам реализовать это для выполнения задания, но рекомендуем попробовать разобраться с такой стратегией и реализовать ее при случае для себя."
   ]
  },
  {
   "cell_type": "code",
   "execution_count": 31,
   "metadata": {},
   "outputs": [],
   "source": [
    "coefficients_list = []\n",
    "for x in range(50):\n",
    "    coefficients_list.append(0.9 / (1.0 + x))"
   ]
  },
  {
   "cell_type": "code",
   "execution_count": 36,
   "metadata": {},
   "outputs": [
    {
     "name": "stdout",
     "output_type": "stream",
     "text": [
      "27.889943411471382\n",
      "5.281093012953983\n"
     ]
    }
   ],
   "source": [
    "get_answer()"
   ]
  },
  {
   "cell_type": "code",
   "execution_count": 4,
   "metadata": {},
   "outputs": [],
   "source": [
    "def get_answer():\n",
    "    result = gbm_predict(X_test)\n",
    "    mse = mean_squared_error(y_test, result)\n",
    "    print (mse)\n",
    "    answer = mse**(0.5)\n",
    "    print (answer)"
   ]
  },
  {
   "cell_type": "markdown",
   "metadata": {},
   "source": [
    "## Задание 4\n",
    "\n",
    "Реализованный вами метод - градиентный бустинг над деревьями - очень популярен в машинном обучении. Он представлен как в самой библиотеке `sklearn`, так и в сторонней библиотеке `XGBoost`, которая имеет свой питоновский интерфейс. На практике `XGBoost` работает заметно лучше `GradientBoostingRegressor` из `sklearn`, но для этого задания вы можете использовать любую реализацию. \n",
    "\n",
    "Исследуйте, переобучается ли градиентный бустинг с ростом числа итераций (и подумайте, почему), а также с ростом глубины деревьев. На основе наблюдений выпишите через пробел номера правильных из приведенных ниже утверждений в порядке возрастания номера (это будет **ответ в п.4**):\n",
    "\n",
    "    1. С увеличением числа деревьев, начиная с некоторого момента, качество работы градиентного бустинга не меняется существенно.\n",
    "\n",
    "    2. С увеличением числа деревьев, начиная с некоторого момента, градиентный бустинг начинает переобучаться.\n",
    "\n",
    "    3. С ростом глубины деревьев, начиная с некоторого момента, качество работы градиентного бустинга на тестовой выборке начинает ухудшаться.\n",
    "\n",
    "    4. С ростом глубины деревьев, начиная с некоторого момента, качество работы градиентного бустинга перестает существенно изменяться"
   ]
  },
  {
   "cell_type": "code",
   "execution_count": null,
   "metadata": {},
   "outputs": [],
   "source": [
    "1  3"
   ]
  },
  {
   "cell_type": "code",
   "execution_count": 10,
   "metadata": {},
   "outputs": [],
   "source": [
    "from sklearn.ensemble import GradientBoostingRegressor"
   ]
  },
  {
   "cell_type": "code",
   "execution_count": 9,
   "metadata": {},
   "outputs": [],
   "source": [
    "import numpy"
   ]
  },
  {
   "cell_type": "code",
   "execution_count": 4,
   "metadata": {},
   "outputs": [
    {
     "data": {
      "text/plain": [
       "47.0"
      ]
     },
     "execution_count": 4,
     "metadata": {},
     "output_type": "execute_result"
    }
   ],
   "source": [
    "141/3"
   ]
  },
  {
   "cell_type": "code",
   "execution_count": 10,
   "metadata": {},
   "outputs": [
    {
     "data": {
      "text/plain": [
       "GradientBoostingRegressor(alpha=0.9, criterion='friedman_mse', init=None,\n",
       "                          learning_rate=0.1, loss='ls', max_depth=5,\n",
       "                          max_features=None, max_leaf_nodes=None,\n",
       "                          min_impurity_decrease=0.0, min_impurity_split=None,\n",
       "                          min_samples_leaf=1, min_samples_split=2,\n",
       "                          min_weight_fraction_leaf=0.0, n_estimators=50,\n",
       "                          n_iter_no_change=None, presort='auto',\n",
       "                          random_state=None, subsample=1.0, tol=0.0001,\n",
       "                          validation_fraction=0.1, verbose=0, warm_start=False)"
      ]
     },
     "execution_count": 10,
     "metadata": {},
     "output_type": "execute_result"
    }
   ],
   "source": [
    "estim = GradientBoostingRegressor(n_estimators= 50, max_depth=5)\n",
    "estim.fit(X_train, y_train)"
   ]
  },
  {
   "cell_type": "code",
   "execution_count": 33,
   "metadata": {},
   "outputs": [
    {
     "data": {
      "text/plain": [
       "2966"
      ]
     },
     "execution_count": 33,
     "metadata": {},
     "output_type": "execute_result"
    }
   ],
   "source": [
    "616 + 47 * 50"
   ]
  },
  {
   "cell_type": "code",
   "execution_count": 34,
   "metadata": {},
   "outputs": [
    {
     "name": "stdout",
     "output_type": "stream",
     "text": [
      "[39.32978165012162, 14.546487938333295, 14.078553165431655, 14.470364741313276, 14.612562482653969, 13.938272025392523, 14.31543969879952, 13.747004590860893, 13.888448036185332, 14.019836502734373, 14.334125585386223, 13.976338342813976, 14.213067419484373, 14.386355058739436, 14.087436905442647, 13.842208878870567, 13.874585779322585, 13.904722077297183, 14.700795885075197, 14.199217162615701, 13.934000518121753, 14.159740069874832, 13.988067832878995, 14.279692074108025, 14.319260403647103, 14.207344907409379, 14.011314692410696, 13.97905980470771, 13.553017772782608, 13.867212027130037, 14.073547834910391, 14.470357767713677, 14.254500230488157, 14.32789953116114, 14.398264353677083, 14.559396419844058, 14.815202942982726, 14.203558367332025, 14.442751895802312, 14.006935265706995, 14.138731748734434, 14.096848271284339, 14.161983456262696, 14.2103627084127, 14.320770343740845, 14.995257170507063, 13.57370368410409, 14.80456784723764, 13.693606621036825, 14.102486651601078, 14.447470878564088, 13.75919778861326, 14.346836966088702, 14.045021137412085, 13.935127947087242, 13.94440431384216, 14.43600640049623, 14.159160344666988, 14.65833061357335, 14.054543356782306, 14.486142919493284, 13.910597334950658, 13.899692068764894]\n"
     ]
    }
   ],
   "source": [
    "errors = []\n",
    "for x in numpy.arange(5, 2966, 47):\n",
    "    estim = GradientBoostingRegressor(n_estimators= x, max_depth=5)\n",
    "    estim.fit(X_train, y_train)\n",
    "    predicted = estim.predict(X_test)\n",
    "    error = mean_squared_error(y_test, predicted)\n",
    "    errors.append(error)\n",
    "print(errors)"
   ]
  },
  {
   "cell_type": "code",
   "execution_count": 38,
   "metadata": {},
   "outputs": [],
   "source": [
    "import matplotlib.pyplot as plt"
   ]
  },
  {
   "cell_type": "code",
   "execution_count": 40,
   "metadata": {},
   "outputs": [
    {
     "data": {
      "text/plain": [
       "[<matplotlib.lines.Line2D at 0xe0106a0>]"
      ]
     },
     "execution_count": 40,
     "metadata": {},
     "output_type": "execute_result"
    },
    {
     "data": {
      "image/png": "[encoded data removed]",
      "text/plain": [
       "<Figure size 432x288 with 1 Axes>"
      ]
     },
     "metadata": {
      "needs_background": "light"
     },
     "output_type": "display_data"
    }
   ],
   "source": [
    "plt.plot(numpy.arange(5, 2966, 47), errors)"
   ]
  },
  {
   "cell_type": "code",
   "execution_count": 18,
   "metadata": {},
   "outputs": [
    {
     "name": "stdout",
     "output_type": "stream",
     "text": [
      "[27.061455714451203, 16.013872749010794, 14.238300827866578, 16.042528225102345, 14.591428977574191, 20.57560088204124, 26.92284278828213, 27.090226675941583, 27.148498600515516, 26.492802106848295, 27.00735903023995, 26.677152936546594, 26.56572542209296, 26.470789262467036, 26.819949060331947, 26.45073306365719, 26.73899794964909, 27.12870129119209, 26.48892952957294, 26.790020844336993, 26.91319783958204, 26.936955317393895, 27.05523664419105, 27.59222064598015, 26.67359432734992]\n"
     ]
    }
   ],
   "source": [
    "errors = []\n",
    "for x in numpy.arange(1, 50,data:image/png;base64,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 2):\n",
    "    estim = GradientBoostingRegressor(data:image/png;base64,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n_estimators= 50, max_depth=x)\n",
    "    estim.fit(X_train, y_train)data:image/png;base64,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\n",
    "    predicted = estim.predict(X_test)\n",
    "    error = mean_squared_error(y_test, predicted)\n",
    "    errors.append(error)\n",
    "print(errors)"
   ]
  },
  {
   "cell_type": "markdown",
   "metadata": {},
   "source": [
    "## Задание 5\n",
    "\n",
    "Сравните получаемое с помощью градиентного бустинга качество с качеством работы линейной регрессии. \n",
    "\n",
    "Для этого обучите `LinearRegression` из `sklearn.linear_model` (с параметрами по умолчанию) на обучающей выборке и оцените для прогнозов полученного алгоритма на тестовой выборке `RMSE`. Полученное качество - ответ в **пункте 5**. \n",
    "\n",
    "В данном примере качество работы простой модели должно было оказаться хуже, но не стоит забывать, что так бывает не всегда. В заданиях к этому курсу вы еще встретите пример обратной ситуации."
   ]
  },
  {
   "cell_type": "code",
   "execution_count": 30,
   "metadata": {},
   "outputs": [],
   "source": [
    "from sklearn.linear_model import LinearRegression"
   ]
  },
  {
   "cell_type": "code",
   "execution_count": 31,
   "metadata": {},
   "outputs": [],
   "source": [
    "estim = LinearRegression().fit(X_train, y_train)\n",
    "predicted = estim.predict(X_test)\n"
   ]
  },
  {
   "cell_type": "code",
   "execution_count": 32,
   "metadata": {},
   "outputs": [
    {
     "data": {
      "text/plain": [
       "5.457311159564055"
      ]
     },
     "execution_count": 32,
     "metadata": {},
     "output_type": "execute_result"
    }
   ],
   "source": [
    "(mean_squared_error(y_test, predicted))**(0.5)"
   ]
  },
  {
   "cell_type": "code",
   "execution_count": null,
   "metadata": {},
   "outputs": [],
   "source": []
  }
 ],
 "metadata": {
  "kernelspec": {
   "display_name": "Python 3",
   "language": "python",
   "name": "python3"
  },
  "language_info": {
   "codemirror_mode": {
    "name": "ipython",
    "version": 3
   },
   "file_extension": ".py",
   "mimetype": "text/x-python",
   "name": "python",
   "nbconvert_exporter": "python",
   "pygments_lexer": "ipython3",
   "version": "3.7.3"
  }
 },
 "nbformat": 4,
 "nbformat_minor": 1
}
