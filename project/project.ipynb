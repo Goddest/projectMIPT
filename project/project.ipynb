{
 "cells": [
  {
   "cell_type": "code",
   "execution_count": 10,
   "metadata": {},
   "outputs": [],
   "source": [
    "import numpy as np\n",
    "import sklearn as skl\n",
    "import pandas as pd\n",
    "import seaborn as sb\n",
    "import matplotlib.pyplot as plt\n",
    "import random"
   ]
  },
  {
   "cell_type": "markdown",
   "metadata": {},
   "source": [
    "# Этап 1. Исследование данных"
   ]
  },
  {
   "cell_type": "markdown",
   "metadata": {},
   "source": [
    "## Внешний вид данных."
   ]
  },
  {
   "cell_type": "code",
   "execution_count": 11,
   "metadata": {},
   "outputs": [],
   "source": [
    "dataFrame = pd.read_csv('pulsar_stars.csv')"
   ]
  },
  {
   "cell_type": "code",
   "execution_count": 104,
   "metadata": {},
   "outputs": [
    {
     "data": {
      "text/html": [
       "<div>\n",
       "<style scoped>\n",
       "    .dataframe tbody tr th:only-of-type {\n",
       "        vertical-align: middle;\n",
       "    }\n",
       "\n",
       "    .dataframe tbody tr th {\n",
       "        vertical-align: top;\n",
       "    }\n",
       "\n",
       "    .dataframe thead th {\n",
       "        text-align: right;\n",
       "    }\n",
       "</style>\n",
       "<table border=\"1\" class=\"dataframe\">\n",
       "  <thead>\n",
       "    <tr style=\"text-align: right;\">\n",
       "      <th></th>\n",
       "      <th>Mean of the integrated profile</th>\n",
       "      <th>Standard deviation of the integrated profile</th>\n",
       "      <th>Excess kurtosis of the integrated profile</th>\n",
       "      <th>Skewness of the integrated profile</th>\n",
       "      <th>Mean of the DM-SNR curve</th>\n",
       "      <th>Standard deviation of the DM-SNR curve</th>\n",
       "      <th>Excess kurtosis of the DM-SNR curve</th>\n",
       "      <th>Skewness of the DM-SNR curve</th>\n",
       "      <th>target_class</th>\n",
       "    </tr>\n",
       "  </thead>\n",
       "  <tbody>\n",
       "    <tr>\n",
       "      <td>0</td>\n",
       "      <td>140.562500</td>\n",
       "      <td>55.683782</td>\n",
       "      <td>-0.234571</td>\n",
       "      <td>-0.699648</td>\n",
       "      <td>3.199833</td>\n",
       "      <td>19.110426</td>\n",
       "      <td>7.975532</td>\n",
       "      <td>74.242225</td>\n",
       "      <td>0</td>\n",
       "    </tr>\n",
       "    <tr>\n",
       "      <td>1</td>\n",
       "      <td>102.507812</td>\n",
       "      <td>58.882430</td>\n",
       "      <td>0.465318</td>\n",
       "      <td>-0.515088</td>\n",
       "      <td>1.677258</td>\n",
       "      <td>14.860146</td>\n",
       "      <td>10.576487</td>\n",
       "      <td>127.393580</td>\n",
       "      <td>0</td>\n",
       "    </tr>\n",
       "    <tr>\n",
       "      <td>2</td>\n",
       "      <td>103.015625</td>\n",
       "      <td>39.341649</td>\n",
       "      <td>0.323328</td>\n",
       "      <td>1.051164</td>\n",
       "      <td>3.121237</td>\n",
       "      <td>21.744669</td>\n",
       "      <td>7.735822</td>\n",
       "      <td>63.171909</td>\n",
       "      <td>0</td>\n",
       "    </tr>\n",
       "    <tr>\n",
       "      <td>3</td>\n",
       "      <td>136.750000</td>\n",
       "      <td>57.178449</td>\n",
       "      <td>-0.068415</td>\n",
       "      <td>-0.636238</td>\n",
       "      <td>3.642977</td>\n",
       "      <td>20.959280</td>\n",
       "      <td>6.896499</td>\n",
       "      <td>53.593661</td>\n",
       "      <td>0</td>\n",
       "    </tr>\n",
       "    <tr>\n",
       "      <td>4</td>\n",
       "      <td>88.726562</td>\n",
       "      <td>40.672225</td>\n",
       "      <td>0.600866</td>\n",
       "      <td>1.123492</td>\n",
       "      <td>1.178930</td>\n",
       "      <td>11.468720</td>\n",
       "      <td>14.269573</td>\n",
       "      <td>252.567306</td>\n",
       "      <td>0</td>\n",
       "    </tr>\n",
       "  </tbody>\n",
       "</table>\n",
       "</div>"
      ],
      "text/plain": [
       "    Mean of the integrated profile  \\\n",
       "0                       140.562500   \n",
       "1                       102.507812   \n",
       "2                       103.015625   \n",
       "3                       136.750000   \n",
       "4                        88.726562   \n",
       "\n",
       "    Standard deviation of the integrated profile  \\\n",
       "0                                      55.683782   \n",
       "1                                      58.882430   \n",
       "2                                      39.341649   \n",
       "3                                      57.178449   \n",
       "4                                      40.672225   \n",
       "\n",
       "    Excess kurtosis of the integrated profile  \\\n",
       "0                                   -0.234571   \n",
       "1                                    0.465318   \n",
       "2                                    0.323328   \n",
       "3                                   -0.068415   \n",
       "4                                    0.600866   \n",
       "\n",
       "    Skewness of the integrated profile   Mean of the DM-SNR curve  \\\n",
       "0                            -0.699648                   3.199833   \n",
       "1                            -0.515088                   1.677258   \n",
       "2                             1.051164                   3.121237   \n",
       "3                            -0.636238                   3.642977   \n",
       "4                             1.123492                   1.178930   \n",
       "\n",
       "    Standard deviation of the DM-SNR curve  \\\n",
       "0                                19.110426   \n",
       "1                                14.860146   \n",
       "2                                21.744669   \n",
       "3                                20.959280   \n",
       "4                                11.468720   \n",
       "\n",
       "    Excess kurtosis of the DM-SNR curve   Skewness of the DM-SNR curve  \\\n",
       "0                              7.975532                      74.242225   \n",
       "1                             10.576487                     127.393580   \n",
       "2                              7.735822                      63.171909   \n",
       "3                              6.896499                      53.593661   \n",
       "4                             14.269573                     252.567306   \n",
       "\n",
       "   target_class  \n",
       "0             0  \n",
       "1             0  \n",
       "2             0  \n",
       "3             0  \n",
       "4             0  "
      ]
     },
     "execution_count": 104,
     "metadata": {},
     "output_type": "execute_result"
    }
   ],
   "source": [
    "dataFrame.head(5)"
   ]
  },
  {
   "cell_type": "code",
   "execution_count": 13,
   "metadata": {},
   "outputs": [
    {
     "name": "stdout",
     "output_type": "stream",
     "text": [
      "number of features:  9\n",
      "number of examples:  17898\n"
     ]
    }
   ],
   "source": [
    "print('number of features: ', dataFrame.shape[1])\n",
    "print('number of examples: ', dataFrame.shape[0])"
   ]
  },
  {
   "cell_type": "markdown",
   "metadata": {},
   "source": [
    "\n",
    "### Избавимся от неопределенных значений в датасете"
   ]
  },
  {
   "cell_type": "code",
   "execution_count": 14,
   "metadata": {},
   "outputs": [
    {
     "data": {
      "text/plain": [
       " Mean of the integrated profile                  0\n",
       " Standard deviation of the integrated profile    0\n",
       " Excess kurtosis of the integrated profile       0\n",
       " Skewness of the integrated profile              0\n",
       " Mean of the DM-SNR curve                        0\n",
       " Standard deviation of the DM-SNR curve          0\n",
       " Excess kurtosis of the DM-SNR curve             0\n",
       " Skewness of the DM-SNR curve                    0\n",
       "target_class                                     0\n",
       "dtype: int64"
      ]
     },
     "execution_count": 14,
     "metadata": {},
     "output_type": "execute_result"
    }
   ],
   "source": [
    "dataFrame.isnull().sum()"
   ]
  },
  {
   "cell_type": "markdown",
   "metadata": {},
   "source": [
    "## Построим парные графики признаков"
   ]
  },
  {
   "cell_type": "code",
   "execution_count": 15,
   "metadata": {},
   "outputs": [
    {
     "data": {
      "image/png": "[encoded data removed]",
      "text/plain": [
       "<Figure size 1148.5x1080 with 42 Axes>"
      ]
     },
     "metadata": {},
     "output_type": "display_data"
    }
   ],
   "source": [
    "sb.pairplot(data=dataFrame,\n",
    "             palette=\"husl\",\n",
    "             hue=\"target_class\",\n",
    "             vars=[\" Mean of the integrated profile\",\n",
    "                   \" Excess kurtosis of the integrated profile\",\n",
    "                   \" Skewness of the integrated profile\",\n",
    "                   \" Mean of the DM-SNR curve\",\n",
    "                   \" Excess kurtosis of the DM-SNR curve\",\n",
    "                   \" Skewness of the DM-SNR curve\"])\n",
    "\n",
    "plt.suptitle(\"PairPlot of Data Without Std. Dev. Fields\",fontsize=18)\n",
    "\n",
    "plt.tight_layout()\n",
    "plt.show() "
   ]
  },
  {
   "cell_type": "markdown",
   "metadata": {},
   "source": [
    "### Видим, что на всех графиках синие и красные точки могут быть разделены одной линией (за исключениемм выбросов)"
   ]
  },
  {
   "cell_type": "markdown",
   "metadata": {},
   "source": [
    "Проверим корелляцию Пирсона признаков."
   ]
  },
  {
   "cell_type": "code",
   "execution_count": 16,
   "metadata": {},
   "outputs": [
    {
     "data": {
      "text/html": [
       "<div>\n",
       "<style scoped>\n",
       "    .dataframe tbody tr th:only-of-type {\n",
       "        vertical-align: middle;\n",
       "    }\n",
       "\n",
       "    .dataframe tbody tr th {\n",
       "        vertical-align: top;\n",
       "    }\n",
       "\n",
       "    .dataframe thead th {\n",
       "        text-align: right;\n",
       "    }\n",
       "</style>\n",
       "<table border=\"1\" class=\"dataframe\">\n",
       "  <thead>\n",
       "    <tr style=\"text-align: right;\">\n",
       "      <th></th>\n",
       "      <th>Mean of the integrated profile</th>\n",
       "      <th>Standard deviation of the integrated profile</th>\n",
       "      <th>Excess kurtosis of the integrated profile</th>\n",
       "      <th>Skewness of the integrated profile</th>\n",
       "      <th>Mean of the DM-SNR curve</th>\n",
       "      <th>Standard deviation of the DM-SNR curve</th>\n",
       "      <th>Excess kurtosis of the DM-SNR curve</th>\n",
       "      <th>Skewness of the DM-SNR curve</th>\n",
       "      <th>target_class</th>\n",
       "    </tr>\n",
       "  </thead>\n",
       "  <tbody>\n",
       "    <tr>\n",
       "      <td>Mean of the integrated profile</td>\n",
       "      <td>1.000000</td>\n",
       "      <td>0.547137</td>\n",
       "      <td>-0.873898</td>\n",
       "      <td>-0.738775</td>\n",
       "      <td>-0.298841</td>\n",
       "      <td>-0.307016</td>\n",
       "      <td>0.234331</td>\n",
       "      <td>0.144033</td>\n",
       "      <td>-0.673181</td>\n",
       "    </tr>\n",
       "    <tr>\n",
       "      <td>Standard deviation of the integrated profile</td>\n",
       "      <td>0.547137</td>\n",
       "      <td>1.000000</td>\n",
       "      <td>-0.521435</td>\n",
       "      <td>-0.539793</td>\n",
       "      <td>0.006869</td>\n",
       "      <td>-0.047632</td>\n",
       "      <td>0.029429</td>\n",
       "      <td>0.027691</td>\n",
       "      <td>-0.363708</td>\n",
       "    </tr>\n",
       "    <tr>\n",
       "      <td>Excess kurtosis of the integrated profile</td>\n",
       "      <td>-0.873898</td>\n",
       "      <td>-0.521435</td>\n",
       "      <td>1.000000</td>\n",
       "      <td>0.945729</td>\n",
       "      <td>0.414368</td>\n",
       "      <td>0.432880</td>\n",
       "      <td>-0.341209</td>\n",
       "      <td>-0.214491</td>\n",
       "      <td>0.791591</td>\n",
       "    </tr>\n",
       "    <tr>\n",
       "      <td>Skewness of the integrated profile</td>\n",
       "      <td>-0.738775</td>\n",
       "      <td>-0.539793</td>\n",
       "      <td>0.945729</td>\n",
       "      <td>1.000000</td>\n",
       "      <td>0.412056</td>\n",
       "      <td>0.415140</td>\n",
       "      <td>-0.328843</td>\n",
       "      <td>-0.204782</td>\n",
       "      <td>0.709528</td>\n",
       "    </tr>\n",
       "    <tr>\n",
       "      <td>Mean of the DM-SNR curve</td>\n",
       "      <td>-0.298841</td>\n",
       "      <td>0.006869</td>\n",
       "      <td>0.414368</td>\n",
       "      <td>0.412056</td>\n",
       "      <td>1.000000</td>\n",
       "      <td>0.796555</td>\n",
       "      <td>-0.615971</td>\n",
       "      <td>-0.354269</td>\n",
       "      <td>0.400876</td>\n",
       "    </tr>\n",
       "    <tr>\n",
       "      <td>Standard deviation of the DM-SNR curve</td>\n",
       "      <td>-0.307016</td>\n",
       "      <td>-0.047632</td>\n",
       "      <td>0.432880</td>\n",
       "      <td>0.415140</td>\n",
       "      <td>0.796555</td>\n",
       "      <td>1.000000</td>\n",
       "      <td>-0.809786</td>\n",
       "      <td>-0.575800</td>\n",
       "      <td>0.491535</td>\n",
       "    </tr>\n",
       "    <tr>\n",
       "      <td>Excess kurtosis of the DM-SNR curve</td>\n",
       "      <td>0.234331</td>\n",
       "      <td>0.029429</td>\n",
       "      <td>-0.341209</td>\n",
       "      <td>-0.328843</td>\n",
       "      <td>-0.615971</td>\n",
       "      <td>-0.809786</td>\n",
       "      <td>1.000000</td>\n",
       "      <td>0.923743</td>\n",
       "      <td>-0.390816</td>\n",
       "    </tr>\n",
       "    <tr>\n",
       "      <td>Skewness of the DM-SNR curve</td>\n",
       "      <td>0.144033</td>\n",
       "      <td>0.027691</td>\n",
       "      <td>-0.214491</td>\n",
       "      <td>-0.204782</td>\n",
       "      <td>-0.354269</td>\n",
       "      <td>-0.575800</td>\n",
       "      <td>0.923743</td>\n",
       "      <td>1.000000</td>\n",
       "      <td>-0.259117</td>\n",
       "    </tr>\n",
       "    <tr>\n",
       "      <td>target_class</td>\n",
       "      <td>-0.673181</td>\n",
       "      <td>-0.363708</td>\n",
       "      <td>0.791591</td>\n",
       "      <td>0.709528</td>\n",
       "      <td>0.400876</td>\n",
       "      <td>0.491535</td>\n",
       "      <td>-0.390816</td>\n",
       "      <td>-0.259117</td>\n",
       "      <td>1.000000</td>\n",
       "    </tr>\n",
       "  </tbody>\n",
       "</table>\n",
       "</div>"
      ],
      "text/plain": [
       "                                                Mean of the integrated profile  \\\n",
       " Mean of the integrated profile                                       1.000000   \n",
       " Standard deviation of the integrated profile                         0.547137   \n",
       " Excess kurtosis of the integrated profile                           -0.873898   \n",
       " Skewness of the integrated profile                                  -0.738775   \n",
       " Mean of the DM-SNR curve                                            -0.298841   \n",
       " Standard deviation of the DM-SNR curve                              -0.307016   \n",
       " Excess kurtosis of the DM-SNR curve                                  0.234331   \n",
       " Skewness of the DM-SNR curve                                         0.144033   \n",
       "target_class                                                         -0.673181   \n",
       "\n",
       "                                                Standard deviation of the integrated profile  \\\n",
       " Mean of the integrated profile                                                     0.547137   \n",
       " Standard deviation of the integrated profile                                       1.000000   \n",
       " Excess kurtosis of the integrated profile                                         -0.521435   \n",
       " Skewness of the integrated profile                                                -0.539793   \n",
       " Mean of the DM-SNR curve                                                           0.006869   \n",
       " Standard deviation of the DM-SNR curve                                            -0.047632   \n",
       " Excess kurtosis of the DM-SNR curve                                                0.029429   \n",
       " Skewness of the DM-SNR curve                                                       0.027691   \n",
       "target_class                                                                       -0.363708   \n",
       "\n",
       "                                                Excess kurtosis of the integrated profile  \\\n",
       " Mean of the integrated profile                                                 -0.873898   \n",
       " Standard deviation of the integrated profile                                   -0.521435   \n",
       " Excess kurtosis of the integrated profile                                       1.000000   \n",
       " Skewness of the integrated profile                                              0.945729   \n",
       " Mean of the DM-SNR curve                                                        0.414368   \n",
       " Standard deviation of the DM-SNR curve                                          0.432880   \n",
       " Excess kurtosis of the DM-SNR curve                                            -0.341209   \n",
       " Skewness of the DM-SNR curve                                                   -0.214491   \n",
       "target_class                                                                     0.791591   \n",
       "\n",
       "                                                Skewness of the integrated profile  \\\n",
       " Mean of the integrated profile                                          -0.738775   \n",
       " Standard deviation of the integrated profile                            -0.539793   \n",
       " Excess kurtosis of the integrated profile                                0.945729   \n",
       " Skewness of the integrated profile                                       1.000000   \n",
       " Mean of the DM-SNR curve                                                 0.412056   \n",
       " Standard deviation of the DM-SNR curve                                   0.415140   \n",
       " Excess kurtosis of the DM-SNR curve                                     -0.328843   \n",
       " Skewness of the DM-SNR curve                                            -0.204782   \n",
       "target_class                                                              0.709528   \n",
       "\n",
       "                                                Mean of the DM-SNR curve  \\\n",
       " Mean of the integrated profile                                -0.298841   \n",
       " Standard deviation of the integrated profile                   0.006869   \n",
       " Excess kurtosis of the integrated profile                      0.414368   \n",
       " Skewness of the integrated profile                             0.412056   \n",
       " Mean of the DM-SNR curve                                       1.000000   \n",
       " Standard deviation of the DM-SNR curve                         0.796555   \n",
       " Excess kurtosis of the DM-SNR curve                           -0.615971   \n",
       " Skewness of the DM-SNR curve                                  -0.354269   \n",
       "target_class                                                    0.400876   \n",
       "\n",
       "                                                Standard deviation of the DM-SNR curve  \\\n",
       " Mean of the integrated profile                                              -0.307016   \n",
       " Standard deviation of the integrated profile                                -0.047632   \n",
       " Excess kurtosis of the integrated profile                                    0.432880   \n",
       " Skewness of the integrated profile                                           0.415140   \n",
       " Mean of the DM-SNR curve                                                     0.796555   \n",
       " Standard deviation of the DM-SNR curve                                       1.000000   \n",
       " Excess kurtosis of the DM-SNR curve                                         -0.809786   \n",
       " Skewness of the DM-SNR curve                                                -0.575800   \n",
       "target_class                                                                  0.491535   \n",
       "\n",
       "                                                Excess kurtosis of the DM-SNR curve  \\\n",
       " Mean of the integrated profile                                            0.234331   \n",
       " Standard deviation of the integrated profile                              0.029429   \n",
       " Excess kurtosis of the integrated profile                                -0.341209   \n",
       " Skewness of the integrated profile                                       -0.328843   \n",
       " Mean of the DM-SNR curve                                                 -0.615971   \n",
       " Standard deviation of the DM-SNR curve                                   -0.809786   \n",
       " Excess kurtosis of the DM-SNR curve                                       1.000000   \n",
       " Skewness of the DM-SNR curve                                              0.923743   \n",
       "target_class                                                              -0.390816   \n",
       "\n",
       "                                                Skewness of the DM-SNR curve  \\\n",
       " Mean of the integrated profile                                     0.144033   \n",
       " Standard deviation of the integrated profile                       0.027691   \n",
       " Excess kurtosis of the integrated profile                         -0.214491   \n",
       " Skewness of the integrated profile                                -0.204782   \n",
       " Mean of the DM-SNR curve                                          -0.354269   \n",
       " Standard deviation of the DM-SNR curve                            -0.575800   \n",
       " Excess kurtosis of the DM-SNR curve                                0.923743   \n",
       " Skewness of the DM-SNR curve                                       1.000000   \n",
       "target_class                                                       -0.259117   \n",
       "\n",
       "                                               target_class  \n",
       " Mean of the integrated profile                   -0.673181  \n",
       " Standard deviation of the integrated profile     -0.363708  \n",
       " Excess kurtosis of the integrated profile         0.791591  \n",
       " Skewness of the integrated profile                0.709528  \n",
       " Mean of the DM-SNR curve                          0.400876  \n",
       " Standard deviation of the DM-SNR curve            0.491535  \n",
       " Excess kurtosis of the DM-SNR curve              -0.390816  \n",
       " Skewness of the DM-SNR curve                     -0.259117  \n",
       "target_class                                       1.000000  "
      ]
     },
     "execution_count": 16,
     "metadata": {},
     "output_type": "execute_result"
    }
   ],
   "source": [
    "dataFrame.corr()"
   ]
  },
  {
   "cell_type": "markdown",
   "metadata": {},
   "source": [
    "Значение 1.0 обозначает полную корелляцию - пример: температура в градусах по Цельсию и по Кельвину.\n",
    "Значений больше 0.95 нет, значит будем использовать все признаки."
   ]
  },
  {
   "cell_type": "markdown",
   "metadata": {},
   "source": [
    "Добавим для наглядности спецэффекты:"
   ]
  },
  {
   "cell_type": "code",
   "execution_count": 17,
   "metadata": {},
   "outputs": [
    {
     "data": {
      "image/png": "[encoded data removed]",
      "text/plain": [
       "<Figure size 1152x864 with 2 Axes>"
      ]
     },
     "metadata": {},
     "output_type": "display_data"
    }
   ],
   "source": [
    "plt.figure(figsize=(16,12))\n",
    "sb.heatmap(data=dataFrame.corr(),annot=True,cmap=\"bone\",linewidths=1,fmt=\".2f\",linecolor=\"orange\")\n",
    "plt.title(\"Correlation Map\",fontsize=20)\n",
    "plt.tight_layout()\n",
    "plt.show()"
   ]
  },
  {
   "cell_type": "markdown",
   "metadata": {},
   "source": [
    "# Этап 2. Подготовка данных"
   ]
  },
  {
   "cell_type": "markdown",
   "metadata": {},
   "source": [
    "Проверим сбалансированность выборки."
   ]
  },
  {
   "cell_type": "code",
   "execution_count": 18,
   "metadata": {},
   "outputs": [
    {
     "name": "stdout",
     "output_type": "stream",
     "text": [
      "0 16259\n",
      "1 1639\n"
     ]
    }
   ],
   "source": [
    "uniq, counts = np.unique(dataFrame['target_class'], return_counts=True)\n",
    "print(uniq[0], counts[0])\n",
    "print(uniq[1], counts[1])"
   ]
  },
  {
   "cell_type": "markdown",
   "metadata": {},
   "source": [
    "Видим,что выборка несбалансированна - объектов со значением целевой переменной 1 (пульсаров) намного меньше"
   ]
  },
  {
   "cell_type": "markdown",
   "metadata": {},
   "source": [
    "## В чем проблема?\n",
    "В несбалансированных выборках классификаторы зачастую могут выбирать всегда один и тот же вариант ответа, \n",
    "чтобы минимизировать ошибку. Пример - рассмотрим задачу диагностирования болезни. Допустим, что в обучающую\n",
    "выборку попали 1000 здоровых и 1 больной пациент. Тогда классификатор может всегда выдавать один и тот же\n",
    "ответ - человек здоров, вне зависимости от входных данных, точность такого предсказания на обучающей выборке \n",
    "будет очень большой, но, очевидно, необъективной."
   ]
  },
  {
   "cell_type": "markdown",
   "metadata": {},
   "source": [
    "Существует два метода решения проблемы:\n",
    "Undersampling и oversampling, коротко: первый выбрасывает некоторое количество объектов преобладающего класса, в то\n",
    "время как второй наоборот - дублирует объекты маленьких классов.\n",
    "В решении задачи будем использовать оба метода, а также попробуем оставить всё \"как есть\""
   ]
  },
  {
   "cell_type": "markdown",
   "metadata": {},
   "source": [
    "Конечно, для данных методов существуют специальные библиотеки, но попробуем обойтись без них."
   ]
  },
  {
   "cell_type": "code",
   "execution_count": 19,
   "metadata": {},
   "outputs": [],
   "source": [
    "def makeUnderSampling(dataFrame, n):\n",
    "    df = dataFrame\n",
    "    while np.unique(df['target_class'], return_counts=True)[1][0] > n:\n",
    "        randomNumber = random.randint(0, df.shape[0]-1)\n",
    "        if df['target_class'][randomNumber] == 0:\n",
    "            df.drop(axis = 0, index = randomNumber, inplace = True)\n",
    "            df.reset_index(inplace=True)\n",
    "            df.drop(columns=('index'), inplace=True)\n",
    "    return df"
   ]
  },
  {
   "cell_type": "markdown",
   "metadata": {},
   "source": [
    "Будем использовать случайное удаление из выборки, так как выборка может быть отсортирована."
   ]
  },
  {
   "cell_type": "markdown",
   "metadata": {},
   "source": [
    "Проверим корректность работы нашей функции:"
   ]
  },
  {
   "cell_type": "code",
   "execution_count": 20,
   "metadata": {},
   "outputs": [
    {
     "name": "stdout",
     "output_type": "stream",
     "text": [
      "0 1650\n",
      "1 1639\n"
     ]
    }
   ],
   "source": [
    "underSampled = makeUnderSampling(dataFrame, 1650)\n",
    "uniq, counts = np.unique(underSampled['target_class'], return_counts=True)\n",
    "print(uniq[0], counts[0])\n",
    "print(uniq[1], counts[1])"
   ]
  },
  {
   "cell_type": "markdown",
   "metadata": {},
   "source": [
    "Сделаем аналогичную функцию makeOverSampling:"
   ]
  },
  {
   "cell_type": "code",
   "execution_count": 21,
   "metadata": {},
   "outputs": [],
   "source": [
    "def makeOverSampling(dataFrame, n):\n",
    "    df = dataFrame\n",
    "    while np.unique(df['target_class'], return_counts=True)[1][1] < n:\n",
    "        randomNumber = random.randint(0, df.shape[0]-1)\n",
    "        if df['target_class'][randomNumber] == 1:\n",
    "            df = df.append(df.iloc[[randomNumber]], ignore_index=True)\n",
    "    return df"
   ]
  },
  {
   "cell_type": "markdown",
   "metadata": {},
   "source": [
    "Аналогично проверим работоспособность этой функции"
   ]
  },
  {
   "cell_type": "code",
   "execution_count": 22,
   "metadata": {},
   "outputs": [
    {
     "name": "stdout",
     "output_type": "stream",
     "text": [
      "0 1650\n",
      "1 16000\n"
     ]
    }
   ],
   "source": [
    "overSampled = makeOverSampling(dataFrame, 16000)\n",
    "uniq, counts = np.unique(overSampled['target_class'], return_counts=True)\n",
    "print(uniq[0], counts[0])\n",
    "print(uniq[1], counts[1])"
   ]
  },
  {
   "cell_type": "markdown",
   "metadata": {},
   "source": [
    "Теперь отложим из датасета 25% данных для теста нашей модели"
   ]
  },
  {
   "cell_type": "code",
   "execution_count": 23,
   "metadata": {},
   "outputs": [],
   "source": [
    "dataFrame = pd.read_csv('pulsar_stars.csv')"
   ]
  },
  {
   "cell_type": "code",
   "execution_count": 24,
   "metadata": {},
   "outputs": [],
   "source": [
    "y = dataFrame['target_class']\n",
    "X = dataFrame.drop(columns=['target_class'])"
   ]
  },
  {
   "cell_type": "code",
   "execution_count": 25,
   "metadata": {},
   "outputs": [],
   "source": [
    "from sklearn.model_selection import train_test_split\n",
    "X_train, X_test, y_train, y_test = train_test_split(X, y, test_size=0.25, random_state=42)"
   ]
  },
  {
   "cell_type": "code",
   "execution_count": 26,
   "metadata": {},
   "outputs": [],
   "source": [
    "y_test = y_test.reset_index().drop(columns=\"index\")\n",
    "y_train = y_train.reset_index().drop(columns=\"index\")\n",
    "X_test = X_test.reset_index().drop(columns=\"index\")\n",
    "X_train = X_train.reset_index().drop(columns=\"index\")"
   ]
  },
  {
   "cell_type": "markdown",
   "metadata": {},
   "source": [
    "проверим размерности полученных наборов данных:"
   ]
  },
  {
   "cell_type": "code",
   "execution_count": 27,
   "metadata": {},
   "outputs": [
    {
     "name": "stdout",
     "output_type": "stream",
     "text": [
      "Тренировочные признаки (13423, 8)\n",
      "Тестовые признаки (4475, 8)\n",
      "Тренировные целевые переменные (13423, 1)\n",
      "Тестовые целевые переменные (4475, 1)\n"
     ]
    }
   ],
   "source": [
    "print(\"Тренировочные признаки\", X_train.shape)\n",
    "print(\"Тестовые признаки\", X_test.shape)\n",
    "print(\"Тренировные целевые переменные\", y_train.shape)\n",
    "print(\"Тестовые целевые переменные\", y_test.shape)"
   ]
  },
  {
   "cell_type": "markdown",
   "metadata": {},
   "source": [
    "Разделим теперь и oversampled & undersampled наборы"
   ]
  },
  {
   "cell_type": "code",
   "execution_count": 28,
   "metadata": {},
   "outputs": [],
   "source": [
    "dataFrameForSampling = ((X_train).join(y_train))\n",
    "dataFrameForSampling.reset_index(inplace=True)\n",
    "dataFrameForSampling.drop(columns=\"index\", inplace=True)"
   ]
  },
  {
   "cell_type": "code",
   "execution_count": 29,
   "metadata": {},
   "outputs": [
    {
     "data": {
      "text/html": [
       "<div>\n",
       "<style scoped>\n",
       "    .dataframe tbody tr th:only-of-type {\n",
       "        vertical-align: middle;\n",
       "    }\n",
       "\n",
       "    .dataframe tbody tr th {\n",
       "        vertical-align: top;\n",
       "    }\n",
       "\n",
       "    .dataframe thead th {\n",
       "        text-align: right;\n",
       "    }\n",
       "</style>\n",
       "<table border=\"1\" class=\"dataframe\">\n",
       "  <thead>\n",
       "    <tr style=\"text-align: right;\">\n",
       "      <th></th>\n",
       "      <th>Mean of the integrated profile</th>\n",
       "      <th>Standard deviation of the integrated profile</th>\n",
       "      <th>Excess kurtosis of the integrated profile</th>\n",
       "      <th>Skewness of the integrated profile</th>\n",
       "      <th>Mean of the DM-SNR curve</th>\n",
       "      <th>Standard deviation of the DM-SNR curve</th>\n",
       "      <th>Excess kurtosis of the DM-SNR curve</th>\n",
       "      <th>Skewness of the DM-SNR curve</th>\n",
       "      <th>target_class</th>\n",
       "    </tr>\n",
       "  </thead>\n",
       "  <tbody>\n",
       "    <tr>\n",
       "      <td>0</td>\n",
       "      <td>27.765625</td>\n",
       "      <td>28.666042</td>\n",
       "      <td>5.770087</td>\n",
       "      <td>37.419009</td>\n",
       "      <td>73.112876</td>\n",
       "      <td>62.070220</td>\n",
       "      <td>1.268206</td>\n",
       "      <td>1.082920</td>\n",
       "      <td>1</td>\n",
       "    </tr>\n",
       "    <tr>\n",
       "      <td>1</td>\n",
       "      <td>120.296875</td>\n",
       "      <td>54.727215</td>\n",
       "      <td>0.301237</td>\n",
       "      <td>-0.456310</td>\n",
       "      <td>21.505853</td>\n",
       "      <td>63.015055</td>\n",
       "      <td>2.771419</td>\n",
       "      <td>6.015646</td>\n",
       "      <td>0</td>\n",
       "    </tr>\n",
       "    <tr>\n",
       "      <td>2</td>\n",
       "      <td>114.625000</td>\n",
       "      <td>55.154471</td>\n",
       "      <td>0.262474</td>\n",
       "      <td>-0.263088</td>\n",
       "      <td>2.202341</td>\n",
       "      <td>15.390161</td>\n",
       "      <td>10.108026</td>\n",
       "      <td>125.888177</td>\n",
       "      <td>0</td>\n",
       "    </tr>\n",
       "    <tr>\n",
       "      <td>3</td>\n",
       "      <td>72.398438</td>\n",
       "      <td>31.991049</td>\n",
       "      <td>2.675793</td>\n",
       "      <td>11.959036</td>\n",
       "      <td>17.673913</td>\n",
       "      <td>50.811992</td>\n",
       "      <td>3.161200</td>\n",
       "      <td>9.063753</td>\n",
       "      <td>1</td>\n",
       "    </tr>\n",
       "    <tr>\n",
       "      <td>4</td>\n",
       "      <td>105.562500</td>\n",
       "      <td>42.715950</td>\n",
       "      <td>0.426848</td>\n",
       "      <td>0.863334</td>\n",
       "      <td>5.203177</td>\n",
       "      <td>28.660882</td>\n",
       "      <td>5.785800</td>\n",
       "      <td>34.028598</td>\n",
       "      <td>0</td>\n",
       "    </tr>\n",
       "    <tr>\n",
       "      <td>...</td>\n",
       "      <td>...</td>\n",
       "      <td>...</td>\n",
       "      <td>...</td>\n",
       "      <td>...</td>\n",
       "      <td>...</td>\n",
       "      <td>...</td>\n",
       "      <td>...</td>\n",
       "      <td>...</td>\n",
       "      <td>...</td>\n",
       "    </tr>\n",
       "    <tr>\n",
       "      <td>13418</td>\n",
       "      <td>124.312500</td>\n",
       "      <td>53.179053</td>\n",
       "      <td>-0.012418</td>\n",
       "      <td>-0.556021</td>\n",
       "      <td>7.186455</td>\n",
       "      <td>29.308266</td>\n",
       "      <td>4.531382</td>\n",
       "      <td>21.725143</td>\n",
       "      <td>0</td>\n",
       "    </tr>\n",
       "    <tr>\n",
       "      <td>13419</td>\n",
       "      <td>115.617188</td>\n",
       "      <td>46.784600</td>\n",
       "      <td>0.218177</td>\n",
       "      <td>0.226757</td>\n",
       "      <td>6.140468</td>\n",
       "      <td>30.271961</td>\n",
       "      <td>5.732201</td>\n",
       "      <td>34.357283</td>\n",
       "      <td>0</td>\n",
       "    </tr>\n",
       "    <tr>\n",
       "      <td>13420</td>\n",
       "      <td>116.031250</td>\n",
       "      <td>43.213846</td>\n",
       "      <td>0.663456</td>\n",
       "      <td>0.433088</td>\n",
       "      <td>0.785117</td>\n",
       "      <td>11.628149</td>\n",
       "      <td>17.055215</td>\n",
       "      <td>312.204325</td>\n",
       "      <td>0</td>\n",
       "    </tr>\n",
       "    <tr>\n",
       "      <td>13421</td>\n",
       "      <td>135.664062</td>\n",
       "      <td>49.933749</td>\n",
       "      <td>-0.089940</td>\n",
       "      <td>-0.226726</td>\n",
       "      <td>3.859532</td>\n",
       "      <td>21.501505</td>\n",
       "      <td>7.398395</td>\n",
       "      <td>62.334018</td>\n",
       "      <td>0</td>\n",
       "    </tr>\n",
       "    <tr>\n",
       "      <td>13422</td>\n",
       "      <td>120.726562</td>\n",
       "      <td>50.472256</td>\n",
       "      <td>0.346178</td>\n",
       "      <td>0.184797</td>\n",
       "      <td>0.769231</td>\n",
       "      <td>11.792603</td>\n",
       "      <td>17.662222</td>\n",
       "      <td>329.548016</td>\n",
       "      <td>0</td>\n",
       "    </tr>\n",
       "  </tbody>\n",
       "</table>\n",
       "<p>13423 rows × 9 columns</p>\n",
       "</div>"
      ],
      "text/plain": [
       "        Mean of the integrated profile  \\\n",
       "0                            27.765625   \n",
       "1                           120.296875   \n",
       "2                           114.625000   \n",
       "3                            72.398438   \n",
       "4                           105.562500   \n",
       "...                                ...   \n",
       "13418                       124.312500   \n",
       "13419                       115.617188   \n",
       "13420                       116.031250   \n",
       "13421                       135.664062   \n",
       "13422                       120.726562   \n",
       "\n",
       "        Standard deviation of the integrated profile  \\\n",
       "0                                          28.666042   \n",
       "1                                          54.727215   \n",
       "2                                          55.154471   \n",
       "3                                          31.991049   \n",
       "4                                          42.715950   \n",
       "...                                              ...   \n",
       "13418                                      53.179053   \n",
       "13419                                      46.784600   \n",
       "13420                                      43.213846   \n",
       "13421                                      49.933749   \n",
       "13422                                      50.472256   \n",
       "\n",
       "        Excess kurtosis of the integrated profile  \\\n",
       "0                                        5.770087   \n",
       "1                                        0.301237   \n",
       "2                                        0.262474   \n",
       "3                                        2.675793   \n",
       "4                                        0.426848   \n",
       "...                                           ...   \n",
       "13418                                   -0.012418   \n",
       "13419                                    0.218177   \n",
       "13420                                    0.663456   \n",
       "13421                                   -0.089940   \n",
       "13422                                    0.346178   \n",
       "\n",
       "        Skewness of the integrated profile   Mean of the DM-SNR curve  \\\n",
       "0                                37.419009                  73.112876   \n",
       "1                                -0.456310                  21.505853   \n",
       "2                                -0.263088                   2.202341   \n",
       "3                                11.959036                  17.673913   \n",
       "4                                 0.863334                   5.203177   \n",
       "...                                    ...                        ...   \n",
       "13418                            -0.556021                   7.186455   \n",
       "13419                             0.226757                   6.140468   \n",
       "13420                             0.433088                   0.785117   \n",
       "13421                            -0.226726                   3.859532   \n",
       "13422                             0.184797                   0.769231   \n",
       "\n",
       "        Standard deviation of the DM-SNR curve  \\\n",
       "0                                    62.070220   \n",
       "1                                    63.015055   \n",
       "2                                    15.390161   \n",
       "3                                    50.811992   \n",
       "4                                    28.660882   \n",
       "...                                        ...   \n",
       "13418                                29.308266   \n",
       "13419                                30.271961   \n",
       "13420                                11.628149   \n",
       "13421                                21.501505   \n",
       "13422                                11.792603   \n",
       "\n",
       "        Excess kurtosis of the DM-SNR curve   Skewness of the DM-SNR curve  \\\n",
       "0                                  1.268206                       1.082920   \n",
       "1                                  2.771419                       6.015646   \n",
       "2                                 10.108026                     125.888177   \n",
       "3                                  3.161200                       9.063753   \n",
       "4                                  5.785800                      34.028598   \n",
       "...                                     ...                            ...   \n",
       "13418                              4.531382                      21.725143   \n",
       "13419                              5.732201                      34.357283   \n",
       "13420                             17.055215                     312.204325   \n",
       "13421                              7.398395                      62.334018   \n",
       "13422                             17.662222                     329.548016   \n",
       "\n",
       "       target_class  \n",
       "0                 1  \n",
       "1                 0  \n",
       "2                 0  \n",
       "3                 1  \n",
       "4                 0  \n",
       "...             ...  \n",
       "13418             0  \n",
       "13419             0  \n",
       "13420             0  \n",
       "13421             0  \n",
       "13422             0  \n",
       "\n",
       "[13423 rows x 9 columns]"
      ]
     },
     "execution_count": 29,
     "metadata": {},
     "output_type": "execute_result"
    }
   ],
   "source": [
    "dataFrameForSampling"
   ]
  },
  {
   "cell_type": "code",
   "execution_count": 30,
   "metadata": {},
   "outputs": [
    {
     "name": "stdout",
     "output_type": "stream",
     "text": [
      "oversampling shape (23389, 9)\n"
     ]
    }
   ],
   "source": [
    "dataFrameOverSampled = makeOverSampling(dataFrameForSampling, 11200)\n",
    "print(\"oversampling shape\", dataFrameOverSampled.shape)"
   ]
  },
  {
   "cell_type": "code",
   "execution_count": 31,
   "metadata": {},
   "outputs": [
    {
     "name": "stdout",
     "output_type": "stream",
     "text": [
      "undersampling shape (2389, 9)\n"
     ]
    }
   ],
   "source": [
    "dataFrameUnderSampled = makeUnderSampling(dataFrameForSampling, 1155)\n",
    "print(\"undersampling shape\", dataFrameUnderSampled.shape)"
   ]
  },
  {
   "cell_type": "code",
   "execution_count": 32,
   "metadata": {},
   "outputs": [],
   "source": [
    "y_over = dataFrameOverSampled['target_class']\n",
    "X_over = dataFrameOverSampled.drop(columns=['target_class'])"
   ]
  },
  {
   "cell_type": "code",
   "execution_count": 33,
   "metadata": {},
   "outputs": [],
   "source": [
    "y_under = dataFrameUnderSampled['target_class']\n",
    "X_under = dataFrameUnderSampled.drop(columns=['target_class'])"
   ]
  },
  {
   "cell_type": "markdown",
   "metadata": {},
   "source": [
    "# Этап 3. Обучение моделей"
   ]
  },
  {
   "cell_type": "markdown",
   "metadata": {},
   "source": [
    "## Переобучение и регуляризаторы"
   ]
  },
  {
   "cell_type": "markdown",
   "metadata": {},
   "source": [
    "### Линейный классификатор."
   ]
  },
  {
   "cell_type": "markdown",
   "metadata": {},
   "source": [
    "##### Лассо регуляризатор"
   ]
  },
  {
   "cell_type": "code",
   "execution_count": 37,
   "metadata": {},
   "outputs": [],
   "source": [
    "from sklearn.linear_model import Lasso"
   ]
  },
  {
   "cell_type": "code",
   "execution_count": 38,
   "metadata": {},
   "outputs": [],
   "source": [
    "estimator_normal_lasso = Lasso()\n",
    "classifier_normal_lasso = estimator_normal_lasso.fit(X_train, y_train)"
   ]
  },
  {
   "cell_type": "code",
   "execution_count": 39,
   "metadata": {},
   "outputs": [],
   "source": [
    "estimator_over_lasso = Lasso()\n",
    "classifier_over_lasso = estimator_over_lasso.fit(X_over, y_over)"
   ]
  },
  {
   "cell_type": "code",
   "execution_count": 40,
   "metadata": {},
   "outputs": [],
   "source": [
    "estimator_under_lasso = Lasso()\n",
    "classifier_under_lasso = estimator_under_lasso.fit(X_under, y_under)"
   ]
  },
  {
   "cell_type": "markdown",
   "metadata": {},
   "source": [
    "##### Ридж регуляризатор"
   ]
  },
  {
   "cell_type": "code",
   "execution_count": 41,
   "metadata": {},
   "outputs": [],
   "source": [
    "from sklearn.linear_model import RidgeClassifier"
   ]
  },
  {
   "cell_type": "markdown",
   "metadata": {},
   "source": [
    "Преобразуем наши dataframe к списку"
   ]
  },
  {
   "cell_type": "code",
   "execution_count": 42,
   "metadata": {},
   "outputs": [],
   "source": [
    "from sklearn.utils import column_or_1d"
   ]
  },
  {
   "cell_type": "code",
   "execution_count": 43,
   "metadata": {},
   "outputs": [],
   "source": [
    "y_train = column_or_1d(y_train)\n",
    "y_test = column_or_1d(y_test)"
   ]
  },
  {
   "cell_type": "code",
   "execution_count": 44,
   "metadata": {},
   "outputs": [],
   "source": [
    "estimator_normal_ridge = RidgeClassifier()\n",
    "classifier_normal_ridge = estimator_normal_ridge.fit(X_train, y_train)"
   ]
  },
  {
   "cell_type": "code",
   "execution_count": 45,
   "metadata": {},
   "outputs": [],
   "source": [
    "estimator_over_ridge = RidgeClassifier()\n",
    "classifier_over_ridge = estimator_over_ridge.fit(X_over, y_over)"
   ]
  },
  {
   "cell_type": "code",
   "execution_count": 46,
   "metadata": {},
   "outputs": [],
   "source": [
    "estimator_under_ridge = RidgeClassifier()\n",
    "classifier_under_ridge = estimator_under_ridge.fit(X_under, y_under)"
   ]
  },
  {
   "cell_type": "markdown",
   "metadata": {},
   "source": [
    "Теперь, обучив первые модели мы можем сравнить качество полученных моделей. Нас интересует разница между моделями, обученными на oversampling, undersampling, и исходном наборах данных."
   ]
  },
  {
   "cell_type": "markdown",
   "metadata": {},
   "source": [
    "### Выбор метрики качества моделей."
   ]
  },
  {
   "cell_type": "markdown",
   "metadata": {},
   "source": [
    "Мы решаем задачу бинарной классификации звёзд, в которой, очевидно, хуже - упустить хотя бы потенциальную нейтронную звезду, поэтому мы можем пожертвовать точностью в пользу полноты. Для полноценной оценки будем использовать множество оценок, начав с confusion matrix (CM).\n",
    "Это таблица 2х2, разберем каждую клетку этой таблицы."
   ]
  },
  {
   "cell_type": "code",
   "execution_count": 47,
   "metadata": {},
   "outputs": [
    {
     "data": {
      "text/html": [
       "<div>\n",
       "<style scoped>\n",
       "    .dataframe tbody tr th:only-of-type {\n",
       "        vertical-align: middle;\n",
       "    }\n",
       "\n",
       "    .dataframe tbody tr th {\n",
       "        vertical-align: top;\n",
       "    }\n",
       "\n",
       "    .dataframe thead th {\n",
       "        text-align: right;\n",
       "    }\n",
       "</style>\n",
       "<table border=\"1\" class=\"dataframe\">\n",
       "  <thead>\n",
       "    <tr style=\"text-align: right;\">\n",
       "      <th></th>\n",
       "      <th>P</th>\n",
       "      <th>N</th>\n",
       "    </tr>\n",
       "  </thead>\n",
       "  <tbody>\n",
       "    <tr>\n",
       "      <td>P</td>\n",
       "      <td>TP</td>\n",
       "      <td>FN</td>\n",
       "    </tr>\n",
       "    <tr>\n",
       "      <td>N</td>\n",
       "      <td>FP</td>\n",
       "      <td>TN</td>\n",
       "    </tr>\n",
       "  </tbody>\n",
       "</table>\n",
       "</div>"
      ],
      "text/plain": [
       "    P   N\n",
       "P  TP  FN\n",
       "N  FP  TN"
      ]
     },
     "execution_count": 47,
     "metadata": {},
     "output_type": "execute_result"
    }
   ],
   "source": [
    "pd.DataFrame(data=((\"TP\", \"FN\"),(\"FP\", \"TN\")), index=(\"P\", \"N\"), columns=(\"P\", \"N\"))"
   ]
  },
  {
   "cell_type": "markdown",
   "metadata": {},
   "source": [
    "TP - вернопредсказанные единицы (В нашем случае - это означает, что модель \"предсказала\" пульсар, и объект является пульсаром)\n",
    "\n",
    "FN - ложнопредсказанный ноль (В нашем случае - модель предсказала обычную звезду, но она оказалась пульсаром)\n",
    "\n",
    "FP - ложнопредсказанная единица (В нашем случае - предсказали пульсар, оказалась обычная звезда)\n",
    "\n",
    "TN - вернопредсказанный ноль (В нашем случае - предсказали обычную звезду, оказалась обычной звездой)"
   ]
  },
  {
   "cell_type": "markdown",
   "metadata": {},
   "source": [
    "С новыми знаниями определим ещё 3 меры:\n",
    "\n",
    "    1) Precision (точность) - отношение количества правильно предсказанных единиц к общему количеству предсказанных единиц: precision = TP/(TP+FP)\n",
    "    \n",
    "    2) Recall (полнота) - отношение количества правильно предсказанных единиц к общему количеству действительных единиц: recall = TP/(TP+FN)\n",
    "    \n",
    "    3) F-мера - наиболее полная мера, объединияющая и точность и полноту: \n",
    "    F-measure = 2*recall*precision/(recall+precision)"
   ]
  },
  {
   "cell_type": "markdown",
   "metadata": {},
   "source": [
    "Будем оценивать модели отдельно двумя критерями - полнотой и Accuracy - количество верных предсказаний делить на количество предсказаний"
   ]
  },
  {
   "cell_type": "code",
   "execution_count": 48,
   "metadata": {},
   "outputs": [],
   "source": [
    "normal_lasso_predicted = classifier_normal_lasso.predict(X_test)\n",
    "over_lasso_predicted = classifier_over_lasso.predict(X_test)\n",
    "under_lasso_predicted = classifier_under_lasso.predict(X_test)"
   ]
  },
  {
   "cell_type": "code",
   "execution_count": 49,
   "metadata": {},
   "outputs": [],
   "source": [
    "normal_ridge_predicted = classifier_normal_ridge.predict(X_test)\n",
    "over_ridge_predicted = classifier_over_ridge.predict(X_test)\n",
    "under_ridge_predicted = classifier_under_ridge.predict(X_test)"
   ]
  },
  {
   "cell_type": "markdown",
   "metadata": {},
   "source": [
    "Очевидно что линейная модель совершенна неспособна разделить объекты на два класса одной плоскостью, проверим это:"
   ]
  },
  {
   "cell_type": "code",
   "execution_count": 50,
   "metadata": {},
   "outputs": [],
   "source": [
    "from sklearn.metrics import confusion_matrix\n",
    "from sklearn.metrics import classification_report"
   ]
  },
  {
   "cell_type": "markdown",
   "metadata": {},
   "source": [
    "Фактически мы предсказали вероятность каждого объекта быть пульсаром или звездой с точки зрения линейного классификатора, теперь распределим эти вероятности по классам"
   ]
  },
  {
   "cell_type": "code",
   "execution_count": 51,
   "metadata": {},
   "outputs": [],
   "source": [
    "def classifictionFromProbability(arr, threshold):\n",
    "    for i in range(len(arr)):\n",
    "        if arr[i] >= threshold:\n",
    "            arr[i] = 1\n",
    "        else:\n",
    "            arr[i] = 0\n",
    "    return arr\n",
    "\n",
    "normal_lasso_predicted = classifictionFromProbability(normal_lasso_predicted, 0.5)\n",
    "over_lasso_predicted = classifictionFromProbability(over_lasso_predicted, 0.5)\n",
    "under_lasso_predicted = classifictionFromProbability(under_lasso_predicted, 0.5)"
   ]
  },
  {
   "cell_type": "markdown",
   "metadata": {},
   "source": [
    "### Первичная оценка модели"
   ]
  },
  {
   "cell_type": "markdown",
   "metadata": {},
   "source": [
    "#### Лассо регуляризатор"
   ]
  },
  {
   "cell_type": "code",
   "execution_count": 52,
   "metadata": {
    "scrolled": true
   },
   "outputs": [
    {
     "name": "stdout",
     "output_type": "stream",
     "text": [
      "Classification report for normal lasso linear model\n",
      "               precision    recall  f1-score   support\n",
      "\n",
      "           0       0.95      1.00      0.97      4070\n",
      "           1       0.98      0.48      0.65       405\n",
      "\n",
      "    accuracy                           0.95      4475\n",
      "   macro avg       0.97      0.74      0.81      4475\n",
      "weighted avg       0.95      0.95      0.94      4475\n",
      "\n"
     ]
    }
   ],
   "source": [
    "print(\"Classification report for normal lasso linear model\\n\", classification_report(y_test, normal_lasso_predicted))"
   ]
  },
  {
   "cell_type": "markdown",
   "metadata": {},
   "source": [
    "Как мы видим - случилась самая неприятная для нашей задачи вещь - модель начала относить большинство звезд к классу обычных, потому что это набор данных не сбалансирован."
   ]
  },
  {
   "cell_type": "code",
   "execution_count": 53,
   "metadata": {},
   "outputs": [
    {
     "name": "stdout",
     "output_type": "stream",
     "text": [
      "Classification report for oversampled lasso linear model\n",
      "               precision    recall  f1-score   support\n",
      "\n",
      "           0       0.98      0.98      0.98      4070\n",
      "           1       0.80      0.85      0.82       405\n",
      "\n",
      "    accuracy                           0.97      4475\n",
      "   macro avg       0.89      0.91      0.90      4475\n",
      "weighted avg       0.97      0.97      0.97      4475\n",
      "\n"
     ]
    }
   ],
   "source": [
    "print(\"Classification report for oversampled lasso linear model\\n\", classification_report(y_test, over_lasso_predicted))"
   ]
  },
  {
   "cell_type": "markdown",
   "metadata": {},
   "source": [
    "Эта модель представляет уже больший интерес- показатель полноты для класса пульсаров вырос почти на 35%"
   ]
  },
  {
   "cell_type": "code",
   "execution_count": 54,
   "metadata": {},
   "outputs": [
    {
     "name": "stdout",
     "output_type": "stream",
     "text": [
      "Classification report for undersampled lasso linear model\n",
      "               precision    recall  f1-score   support\n",
      "\n",
      "           0       0.99      0.97      0.98      4070\n",
      "           1       0.74      0.86      0.80       405\n",
      "\n",
      "    accuracy                           0.96      4475\n",
      "   macro avg       0.86      0.92      0.89      4475\n",
      "weighted avg       0.96      0.96      0.96      4475\n",
      "\n"
     ]
    }
   ],
   "source": [
    "print(\"Classification report for undersampled lasso linear model\\n\", classification_report(y_test, under_lasso_predicted))"
   ]
  },
  {
   "cell_type": "markdown",
   "metadata": {},
   "source": [
    "Итак, для этого метода полнота класса пульсаров стала ещё больше, идём дальше."
   ]
  },
  {
   "cell_type": "markdown",
   "metadata": {},
   "source": [
    "#### Ридж регуляризатор"
   ]
  },
  {
   "cell_type": "code",
   "execution_count": 55,
   "metadata": {},
   "outputs": [
    {
     "name": "stdout",
     "output_type": "stream",
     "text": [
      "Classification report for normal ridge linear model\n",
      "               precision    recall  f1-score   support\n",
      "\n",
      "           0       0.97      1.00      0.98      4070\n",
      "           1       0.96      0.70      0.81       405\n",
      "\n",
      "    accuracy                           0.97      4475\n",
      "   macro avg       0.97      0.85      0.90      4475\n",
      "weighted avg       0.97      0.97      0.97      4475\n",
      "\n"
     ]
    }
   ],
   "source": [
    "print(\"Classification report for normal ridge linear model\\n\", classification_report(y_test, normal_ridge_predicted))"
   ]
  },
  {
   "cell_type": "markdown",
   "metadata": {},
   "source": [
    "Для этого вида регуляризаторов на исходном наборе данных результаты чуть лучше, чем для предыдущего\n",
    "Рассмотрим остальные два набора данных."
   ]
  },
  {
   "cell_type": "code",
   "execution_count": 56,
   "metadata": {},
   "outputs": [
    {
     "name": "stdout",
     "output_type": "stream",
     "text": [
      "Classification report for oversampled ridge linear model\n",
      "               precision    recall  f1-score   support\n",
      "\n",
      "           0       0.99      0.99      0.99      4070\n",
      "           1       0.89      0.87      0.88       405\n",
      "\n",
      "    accuracy                           0.98      4475\n",
      "   macro avg       0.94      0.93      0.93      4475\n",
      "weighted avg       0.98      0.98      0.98      4475\n",
      "\n"
     ]
    }
   ],
   "source": [
    "print(\"Classification report for oversampled ridge linear model\\n\", classification_report(y_test, over_ridge_predicted))"
   ]
  },
  {
   "cell_type": "code",
   "execution_count": 57,
   "metadata": {},
   "outputs": [
    {
     "name": "stdout",
     "output_type": "stream",
     "text": [
      "Classification report for undersampled ridge linear model\n",
      "               precision    recall  f1-score   support\n",
      "\n",
      "           0       0.99      0.99      0.99      4070\n",
      "           1       0.86      0.88      0.87       405\n",
      "\n",
      "    accuracy                           0.98      4475\n",
      "   macro avg       0.92      0.93      0.93      4475\n",
      "weighted avg       0.98      0.98      0.98      4475\n",
      "\n"
     ]
    }
   ],
   "source": [
    "print(\"Classification report for undersampled ridge linear model\\n\", classification_report(y_test, under_ridge_predicted))"
   ]
  },
  {
   "cell_type": "markdown",
   "metadata": {},
   "source": [
    "Как мы видим - в целом Ридж сработал лучше.\n",
    "\n",
    "Напомню главное отличие Ридж регуляризатора от Лассо: в первом используется квадрат разности, а во втором- модуль разности. \n",
    "\n",
    "Разница в результатах объясняется дифференцируемостью Риджа, а следственно и его способностью убирать корелирующие признаки."
   ]
  },
  {
   "cell_type": "markdown",
   "metadata": {},
   "source": [
    "Аналогично попробуем логистическую регрессию, единственное отличие которой - использование экспоненциальной функции активации вместо линейной."
   ]
  },
  {
   "cell_type": "markdown",
   "metadata": {},
   "source": [
    "## Логистическая регрессия"
   ]
  },
  {
   "cell_type": "markdown",
   "metadata": {},
   "source": [
    "Мы выяснили, Ридж регуляризатор в большей мере обладает необходимыми нам свойствами, будем использовать его."
   ]
  },
  {
   "cell_type": "code",
   "execution_count": 58,
   "metadata": {},
   "outputs": [],
   "source": [
    "from sklearn.linear_model import LogisticRegression"
   ]
  },
  {
   "cell_type": "code",
   "execution_count": 59,
   "metadata": {},
   "outputs": [
    {
     "name": "stderr",
     "output_type": "stream",
     "text": [
      "/home/godder/.local/lib/python3.6/site-packages/sklearn/linear_model/logistic.py:432: FutureWarning: Default solver will be changed to 'lbfgs' in 0.22. Specify a solver to silence this warning.\n",
      "  FutureWarning)\n",
      "/home/godder/.local/lib/python3.6/site-packages/sklearn/linear_model/logistic.py:432: FutureWarning: Default solver will be changed to 'lbfgs' in 0.22. Specify a solver to silence this warning.\n",
      "  FutureWarning)\n",
      "/home/godder/.local/lib/python3.6/site-packages/sklearn/linear_model/logistic.py:432: FutureWarning: Default solver will be changed to 'lbfgs' in 0.22. Specify a solver to silence this warning.\n",
      "  FutureWarning)\n"
     ]
    }
   ],
   "source": [
    "classifier_logistic = LogisticRegression()\n",
    "normal_logistic_classifier = classifier_logistic.fit(X_train, y_train)\n",
    "over_logistic_classifier = classifier_logistic.fit(X_over, y_over)\n",
    "under_logistic_classifier = classifier_logistic.fit(X_under, y_under)\n",
    "\n",
    "normal_logistic_predicted = normal_logistic_classifier.predict(X_test)\n",
    "over_logistic_predicted = over_logistic_classifier.predict(X_test)\n",
    "under_logistic_predicted = under_logistic_classifier.predict(X_test)"
   ]
  },
  {
   "cell_type": "markdown",
   "metadata": {},
   "source": [
    "Сравним 3 полученные модели:"
   ]
  },
  {
   "cell_type": "code",
   "execution_count": 60,
   "metadata": {},
   "outputs": [
    {
     "name": "stdout",
     "output_type": "stream",
     "text": [
      "Classification report for normal logistic model\n",
      "               precision    recall  f1-score   support\n",
      "\n",
      "           0       0.99      0.97      0.98      4070\n",
      "           1       0.76      0.92      0.83       405\n",
      "\n",
      "    accuracy                           0.97      4475\n",
      "   macro avg       0.88      0.94      0.91      4475\n",
      "weighted avg       0.97      0.97      0.97      4475\n",
      "\n",
      "Classification report for oversampled logistic model\n",
      "               precision    recall  f1-score   support\n",
      "\n",
      "           0       0.99      0.97      0.98      4070\n",
      "           1       0.76      0.92      0.83       405\n",
      "\n",
      "    accuracy                           0.97      4475\n",
      "   macro avg       0.88      0.94      0.91      4475\n",
      "weighted avg       0.97      0.97      0.97      4475\n",
      "\n",
      "Classification report for undersampled logistic model\n",
      "               precision    recall  f1-score   support\n",
      "\n",
      "           0       0.99      0.97      0.98      4070\n",
      "           1       0.76      0.92      0.83       405\n",
      "\n",
      "    accuracy                           0.97      4475\n",
      "   macro avg       0.88      0.94      0.91      4475\n",
      "weighted avg       0.97      0.97      0.97      4475\n",
      "\n"
     ]
    }
   ],
   "source": [
    "print(\"Classification report for normal logistic model\\n\", classification_report(y_test, normal_logistic_predicted))\n",
    "print(\"Classification report for oversampled logistic model\\n\", classification_report(y_test, over_logistic_predicted))\n",
    "print(\"Classification report for undersampled logistic model\\n\", classification_report(y_test, under_logistic_predicted))\n"
   ]
  },
  {
   "cell_type": "markdown",
   "metadata": {},
   "source": [
    "Нужная нам полнота класса пульсаров ещё немного повысилась, пойдем дальше."
   ]
  },
  {
   "cell_type": "markdown",
   "metadata": {},
   "source": [
    "### Метод К ближайших соседей (KNN)"
   ]
  },
  {
   "cell_type": "code",
   "execution_count": 61,
   "metadata": {},
   "outputs": [],
   "source": [
    "from sklearn.neighbors import KNeighborsClassifier\n",
    "\n",
    "KNNclassifier_normal = KNeighborsClassifier(n_neighbors=13)\n",
    "KNNclassifier_normal.fit(X_train, y_train)\n",
    "KNN_normal_prediction = KNNclassifier_normal.predict(X_test)\n",
    "\n",
    "KNNclassifier_over = KNeighborsClassifier(n_neighbors=13)\n",
    "KNNclassifier_over.fit(X_over, y_over)\n",
    "KNN_over_prediction = KNNclassifier_over.predict(X_test)\n",
    "\n",
    "KNNclassifier_under = KNeighborsClassifier(n_neighbors=13)\n",
    "KNNclassifier_under.fit(X_under, y_under)\n",
    "KNN_under_prediction = KNNclassifier_under.predict(X_test)"
   ]
  },
  {
   "cell_type": "code",
   "execution_count": 62,
   "metadata": {},
   "outputs": [
    {
     "name": "stdout",
     "output_type": "stream",
     "text": [
      "Classification report for normal knn model\n",
      "               precision    recall  f1-score   support\n",
      "\n",
      "           0       0.98      0.99      0.99      4070\n",
      "           1       0.91      0.79      0.85       405\n",
      "\n",
      "    accuracy                           0.97      4475\n",
      "   macro avg       0.95      0.89      0.92      4475\n",
      "weighted avg       0.97      0.97      0.97      4475\n",
      "\n",
      "Classification report for oversampled knn model\n",
      "               precision    recall  f1-score   support\n",
      "\n",
      "           0       0.99      0.93      0.96      4070\n",
      "           1       0.57      0.88      0.69       405\n",
      "\n",
      "    accuracy                           0.93      4475\n",
      "   macro avg       0.78      0.91      0.82      4475\n",
      "weighted avg       0.95      0.93      0.94      4475\n",
      "\n",
      "Classification report for undersampled knn model\n",
      "               precision    recall  f1-score   support\n",
      "\n",
      "           0       0.99      0.95      0.97      4070\n",
      "           1       0.64      0.89      0.74       405\n",
      "\n",
      "    accuracy                           0.94      4475\n",
      "   macro avg       0.81      0.92      0.86      4475\n",
      "weighted avg       0.96      0.94      0.95      4475\n",
      "\n"
     ]
    }
   ],
   "source": [
    "print(\"Classification report for normal knn model\\n\", classification_report(y_test, KNN_normal_prediction))\n",
    "print(\"Classification report for oversampled knn model\\n\", classification_report(y_test, KNN_over_prediction))\n",
    "print(\"Classification report for undersampled knn model\\n\", classification_report(y_test, KNN_under_prediction))"
   ]
  },
  {
   "cell_type": "markdown",
   "metadata": {},
   "source": [
    "На одном из наборов модель показала наилучшую общую оценку (F1-measure), но нас в нашей задаче это не устраивает - нам нужна полнота класса 1"
   ]
  },
  {
   "cell_type": "markdown",
   "metadata": {},
   "source": [
    "### Построение наивного Байеса"
   ]
  },
  {
   "cell_type": "markdown",
   "metadata": {},
   "source": [
    "происходит с помощью одноименной теоремы, в решении отбрасывает \"незначимые\", что на практике может привести к печальным последствиям."
   ]
  },
  {
   "cell_type": "code",
   "execution_count": 63,
   "metadata": {},
   "outputs": [],
   "source": [
    "from sklearn.naive_bayes import GaussianNB"
   ]
  },
  {
   "cell_type": "code",
   "execution_count": 64,
   "metadata": {},
   "outputs": [],
   "source": [
    "bayes_normal = GaussianNB()\n",
    "\n",
    "bayes_normal_predicted = bayes_normal.fit(X_train, y_train).predict(X_test)\n",
    "bayes_over_predicted = bayes_normal.fit(X_over, y_over).predict(X_test)\n",
    "bayes_under_predicted = bayes_normal.fit(X_under, y_under).predict(X_test)"
   ]
  },
  {
   "cell_type": "code",
   "execution_count": 65,
   "metadata": {},
   "outputs": [
    {
     "name": "stdout",
     "output_type": "stream",
     "text": [
      "Classification report for normal bayes model\n",
      "               precision    recall  f1-score   support\n",
      "\n",
      "           0       0.99      0.96      0.97      4070\n",
      "           1       0.66      0.86      0.75       405\n",
      "\n",
      "    accuracy                           0.95      4475\n",
      "   macro avg       0.82      0.91      0.86      4475\n",
      "weighted avg       0.96      0.95      0.95      4475\n",
      "\n",
      "Classification report for oversampled bayes model\n",
      "               precision    recall  f1-score   support\n",
      "\n",
      "           0       0.99      0.95      0.97      4070\n",
      "           1       0.63      0.86      0.73       405\n",
      "\n",
      "    accuracy                           0.94      4475\n",
      "   macro avg       0.81      0.91      0.85      4475\n",
      "weighted avg       0.95      0.94      0.95      4475\n",
      "\n",
      "Classification report for undersampled bayes model\n",
      "               precision    recall  f1-score   support\n",
      "\n",
      "           0       0.99      0.95      0.97      4070\n",
      "           1       0.62      0.87      0.72       405\n",
      "\n",
      "    accuracy                           0.94      4475\n",
      "   macro avg       0.80      0.91      0.85      4475\n",
      "weighted avg       0.95      0.94      0.94      4475\n",
      "\n"
     ]
    }
   ],
   "source": [
    "print(\"Classification report for normal bayes model\\n\", classification_report(y_test, bayes_normal_predicted))\n",
    "print(\"Classification report for oversampled bayes model\\n\", classification_report(y_test, bayes_over_predicted))\n",
    "print(\"Classification report for undersampled bayes model\\n\", classification_report(y_test, bayes_under_predicted))"
   ]
  },
  {
   "cell_type": "markdown",
   "metadata": {},
   "source": [
    "Итак, вероятностная модель имеет не лучший показатель, перейдем к заключительной модели."
   ]
  },
  {
   "cell_type": "markdown",
   "metadata": {},
   "source": [
    "### Решающее дерево"
   ]
  },
  {
   "cell_type": "code",
   "execution_count": 66,
   "metadata": {},
   "outputs": [],
   "source": [
    "from sklearn.tree import DecisionTreeClassifier\n",
    "tree_classifier = DecisionTreeClassifier()"
   ]
  },
  {
   "cell_type": "markdown",
   "metadata": {},
   "source": [
    "В этой моделе мы не ограничимся параметрами по умолчанию, вместо этого мы подберем параметры по сетке (GridSearchSV), которые обеспечат наилучший результат"
   ]
  },
  {
   "cell_type": "code",
   "execution_count": 67,
   "metadata": {},
   "outputs": [
    {
     "data": {
      "text/plain": [
       "{'class_weight': None,\n",
       " 'criterion': 'gini',\n",
       " 'max_depth': None,\n",
       " 'max_features': None,\n",
       " 'max_leaf_nodes': None,\n",
       " 'min_impurity_decrease': 0.0,\n",
       " 'min_impurity_split': None,\n",
       " 'min_samples_leaf': 1,\n",
       " 'min_samples_split': 2,\n",
       " 'min_weight_fraction_leaf': 0.0,\n",
       " 'presort': False,\n",
       " 'random_state': None,\n",
       " 'splitter': 'best'}"
      ]
     },
     "execution_count": 67,
     "metadata": {},
     "output_type": "execute_result"
    }
   ],
   "source": [
    "tree_classifier.get_params()"
   ]
  },
  {
   "cell_type": "markdown",
   "metadata": {},
   "source": [
    "criterion - критерии останова, определяют в какой момент нужно остановиться, чтобы дерево не переобучилось\n",
    "\n",
    "max_depth - максимально допустимая глубина деревьев, по достижении которй построение дерева прекращается\n",
    "\n",
    "max_features - количество признаков, по которым мы смотрим стоит ли строить следующую вершину\n",
    "\n",
    "min_samples_split - минимальное количество объектов, при котором мы строим следующую вершину\n",
    "\n",
    "min_samples_leaf - минимально возможное количество объектов в одной вершине\n"
   ]
  },
  {
   "cell_type": "markdown",
   "metadata": {},
   "source": [
    "Создадим сетку, обходя которую будем подбирать лучшие параметры."
   ]
  },
  {
   "cell_type": "code",
   "execution_count": 77,
   "metadata": {},
   "outputs": [],
   "source": [
    "param_grid = {\n",
    "    'criterion': ['gini', 'entropy'],\n",
    "    'max_depth': [None, 100, 75, 50, 25, 20, 10, 5],\n",
    "    'max_features': ['auto', 'sqrt', 'log2', None],\n",
    "    'min_samples_split': [2, 3, 4, 5],\n",
    "    'min_samples_leaf': [1, 3, 5, 7, 10]\n",
    "}"
   ]
  },
  {
   "cell_type": "code",
   "execution_count": 95,
   "metadata": {},
   "outputs": [],
   "source": [
    "import time\n",
    "from sklearn.metrics import recall_score"
   ]
  },
  {
   "cell_type": "code",
   "execution_count": 96,
   "metadata": {},
   "outputs": [],
   "source": [
    "from sklearn.model_selection import GridSearchCV\n",
    "grid_cv = GridSearchCV(tree_classifier, param_grid, scoring=\"f1\")"
   ]
  },
  {
   "cell_type": "code",
   "execution_count": 97,
   "metadata": {},
   "outputs": [
    {
     "name": "stderr",
     "output_type": "stream",
     "text": [
      "/home/godder/.local/lib/python3.6/site-packages/sklearn/model_selection/_split.py:1978: FutureWarning: The default value of cv will change from 3 to 5 in version 0.22. Specify it explicitly to silence this warning.\n",
      "  warnings.warn(CV_WARNING, FutureWarning)\n"
     ]
    },
    {
     "name": "stdout",
     "output_type": "stream",
     "text": [
      "CPU times: user 2min 44s, sys: 0 ns, total: 2min 44s\n",
      "Wall time: 2min 44s\n"
     ]
    },
    {
     "data": {
      "text/plain": [
       "GridSearchCV(cv='warn', error_score='raise-deprecating',\n",
       "             estimator=DecisionTreeClassifier(class_weight=None,\n",
       "                                              criterion='gini', max_depth=None,\n",
       "                                              max_features=None,\n",
       "                                              max_leaf_nodes=None,\n",
       "                                              min_impurity_decrease=0.0,\n",
       "                                              min_impurity_split=None,\n",
       "                                              min_samples_leaf=1,\n",
       "                                              min_samples_split=2,\n",
       "                                              min_weight_fraction_leaf=0.0,\n",
       "                                              presort=False, random_state=None,\n",
       "                                              splitter='best'),\n",
       "             iid='warn', n_jobs=None,\n",
       "             param_grid={'criterion': ['gini', 'entropy'],\n",
       "                         'max_depth': [None, 100, 75, 50, 25, 20, 10, 5],\n",
       "                         'max_features': ['auto', 'sqrt', 'log2', None],\n",
       "                         'min_samples_leaf': [1, 3, 5, 7, 10],\n",
       "                         'min_samples_split': [2, 3, 4, 5]},\n",
       "             pre_dispatch='2*n_jobs', refit=True, return_train_score=False,\n",
       "             scoring='f1', verbose=0)"
      ]
     },
     "execution_count": 97,
     "metadata": {},
     "output_type": "execute_result"
    }
   ],
   "source": [
    "%%time\n",
    "grid_cv.fit(X_train, y_train)"
   ]
  },
  {
   "cell_type": "code",
   "execution_count": 98,
   "metadata": {},
   "outputs": [
    {
     "data": {
      "text/plain": [
       "DecisionTreeClassifier(class_weight=None, criterion='entropy', max_depth=5,\n",
       "                       max_features='log2', max_leaf_nodes=None,\n",
       "                       min_impurity_decrease=0.0, min_impurity_split=None,\n",
       "                       min_samples_leaf=7, min_samples_split=5,\n",
       "                       min_weight_fraction_leaf=0.0, presort=False,\n",
       "                       random_state=None, splitter='best')"
      ]
     },
     "execution_count": 98,
     "metadata": {},
     "output_type": "execute_result"
    }
   ],
   "source": [
    "grid_cv.best_estimator_"
   ]
  },
  {
   "cell_type": "code",
   "execution_count": 99,
   "metadata": {},
   "outputs": [
    {
     "name": "stdout",
     "output_type": "stream",
     "text": [
      "0.8781516815005125\n",
      "{'criterion': 'entropy', 'max_depth': 5, 'max_features': 'log2', 'min_samples_leaf': 7, 'min_samples_split': 5}\n"
     ]
    }
   ],
   "source": [
    "print(grid_cv.best_score_)\n",
    "print(grid_cv.best_params_)"
   ]
  },
  {
   "cell_type": "markdown",
   "metadata": {},
   "source": [
    "Мы получили наилучшее дерево, возможное при наших параметрах. Сравним его с деревом, построенным на параметрах по умолчанию."
   ]
  },
  {
   "cell_type": "code",
   "execution_count": 100,
   "metadata": {},
   "outputs": [],
   "source": [
    "tree = DecisionTreeClassifier()\n",
    "tree_predicted = tree.fit(X_train, y_train).predict(X_test)"
   ]
  },
  {
   "cell_type": "code",
   "execution_count": 101,
   "metadata": {},
   "outputs": [],
   "source": [
    "grid_tree_predicted = grid_cv.best_estimator_.predict(X_test)"
   ]
  },
  {
   "cell_type": "code",
   "execution_count": 102,
   "metadata": {},
   "outputs": [
    {
     "name": "stdout",
     "output_type": "stream",
     "text": [
      "Classification report for grid search tree model\n",
      "               precision    recall  f1-score   support\n",
      "\n",
      "           0       0.98      0.99      0.99      4070\n",
      "           1       0.93      0.80      0.86       405\n",
      "\n",
      "    accuracy                           0.98      4475\n",
      "   macro avg       0.95      0.89      0.92      4475\n",
      "weighted avg       0.98      0.98      0.98      4475\n",
      "\n",
      "Classification report for default tree model\n",
      "               precision    recall  f1-score   support\n",
      "\n",
      "           0       0.98      0.99      0.99      4070\n",
      "           1       0.85      0.84      0.85       405\n",
      "\n",
      "    accuracy                           0.97      4475\n",
      "   macro avg       0.92      0.92      0.92      4475\n",
      "weighted avg       0.97      0.97      0.97      4475\n",
      "\n"
     ]
    }
   ],
   "source": [
    "print(\"Classification report for grid search tree model\\n\", classification_report(y_test, grid_tree_predicted))\n",
    "print(\"Classification report for default tree model\\n\", classification_report(y_test, tree_predicted))"
   ]
  },
  {
   "cell_type": "markdown",
   "metadata": {},
   "source": [
    "## Этап 4. Подведение итогов"
   ]
  },
  {
   "cell_type": "markdown",
   "metadata": {},
   "source": [
    "Мы обучили основные модели машинного обучения, настало время подвести итоги. Подведем итоги по двум метрикам, \n",
    "будем использовать две метрики - f1 score и recall для класса пульсаров. "
   ]
  },
  {
   "cell_type": "code",
   "execution_count": 103,
   "metadata": {},
   "outputs": [
    {
     "data": {
      "text/html": [
       "<div>\n",
       "<style scoped>\n",
       "    .dataframe tbody tr th:only-of-type {\n",
       "        vertical-align: middle;\n",
       "    }\n",
       "\n",
       "    .dataframe tbody tr th {\n",
       "        vertical-align: top;\n",
       "    }\n",
       "\n",
       "    .dataframe thead th {\n",
       "        text-align: right;\n",
       "    }\n",
       "</style>\n",
       "<table border=\"1\" class=\"dataframe\">\n",
       "  <thead>\n",
       "    <tr style=\"text-align: right;\">\n",
       "      <th></th>\n",
       "      <th>recall</th>\n",
       "      <th>f1 score</th>\n",
       "    </tr>\n",
       "  </thead>\n",
       "  <tbody>\n",
       "    <tr>\n",
       "      <td>Lasso Linear</td>\n",
       "      <td>0.86</td>\n",
       "      <td>0.82</td>\n",
       "    </tr>\n",
       "    <tr>\n",
       "      <td>Lasso Ridge</td>\n",
       "      <td>0.88</td>\n",
       "      <td>0.88</td>\n",
       "    </tr>\n",
       "    <tr>\n",
       "      <td>Logistic Classifier</td>\n",
       "      <td>0.92</td>\n",
       "      <td>0.83</td>\n",
       "    </tr>\n",
       "    <tr>\n",
       "      <td>KNN</td>\n",
       "      <td>0.89</td>\n",
       "      <td>0.95</td>\n",
       "    </tr>\n",
       "    <tr>\n",
       "      <td>Decision Tree</td>\n",
       "      <td>0.84</td>\n",
       "      <td>0.86</td>\n",
       "    </tr>\n",
       "  </tbody>\n",
       "</table>\n",
       "</div>"
      ],
      "text/plain": [
       "                     recall  f1 score\n",
       "Lasso Linear           0.86      0.82\n",
       "Lasso Ridge            0.88      0.88\n",
       "Logistic Classifier    0.92      0.83\n",
       "KNN                    0.89      0.95\n",
       "Decision Tree          0.84      0.86"
      ]
     },
     "execution_count": 103,
     "metadata": {},
     "output_type": "execute_result"
    }
   ],
   "source": [
    "pd.DataFrame(((0.86, 0.82), (0.88, 0.88), (0.92, 0.83), (0.89, 0.95), (0.84, 0.86)),index=(\"Lasso Linear\", \"Lasso Ridge\", \"Logistic Classifier\", \"KNN\", \"Decision Tree\") ,columns=('recall', 'f1 score'))"
   ]
  },
  {
   "cell_type": "code",
   "execution_count": null,
   "metadata": {},
   "outputs": [],
   "source": []
  }
 ],
 "metadata": {
  "kernelspec": {
   "display_name": "Python 3",
   "language": "python",
   "name": "python3"
  },
  "language_info": {
   "codemirror_mode": {
    "name": "ipython",
    "version": 3
   },
   "file_extension": ".py",
   "mimetype": "text/x-python",
   "name": "python",
   "nbconvert_exporter": "python",
   "pygments_lexer": "ipython3",
   "version": "3.6.8"
  }
 },
 "nbformat": 4,
 "nbformat_minor": 2
}
